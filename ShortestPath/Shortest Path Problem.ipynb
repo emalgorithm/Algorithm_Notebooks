{
 "cells": [
  {
   "cell_type": "markdown",
   "metadata": {
    "deletable": true,
    "editable": true
   },
   "source": [
    "# Shortest Path Problem"
   ]
  },
  {
   "cell_type": "markdown",
   "metadata": {
    "deletable": true,
    "editable": true
   },
   "source": [
    "## Graph representation"
   ]
  },
  {
   "cell_type": "code",
   "execution_count": null,
   "metadata": {
    "collapsed": false,
    "deletable": true,
    "editable": true
   },
   "outputs": [],
   "source": [
    "import math\n",
    "import numpy as np\n",
    "\n",
    "n_nodes = 10\n",
    "\n",
    "# List of tuples (start, destination, cost) which represent directed edges\n",
    "edges_list = []\n",
    "edges_list.append((0, 1, 2))\n",
    "edges_list.append((0, 2, 10))\n",
    "edges_list.append((0, 3, 7))\n",
    "edges_list.append((1, 5, 4))\n",
    "edges_list.append((2, 3, -4))\n",
    "edges_list.append((2, 4, 3))\n",
    "edges_list.append((4, 0, -5))\n",
    "edges_list.append((5, 3, 12))\n",
    "edges_list.append((7, 8, 3))\n",
    "edges_list.append((8, 9, 4))\n",
    "\n",
    "# Adjacency matrix representation of a graph of n_nodes nodes\n",
    "# Initialize all values to infinite\n",
    "graph_matrix = np.full((n_nodes, n_nodes), np.inf) \n",
    "# Values in the diagonal are 0: going from any node to itself has no cost\n",
    "np.fill_diagonal(graph_matrix, 0)\n",
    "\n",
    "for edge in edges_list:\n",
    "    start, destination, cost = edge\n",
    "    graph_matrix[start, destination] = cost"
   ]
  },
  {
   "cell_type": "markdown",
   "metadata": {
    "deletable": true,
    "editable": true
   },
   "source": [
    "## All Pairs Shorterst Path"
   ]
  },
  {
   "cell_type": "markdown",
   "metadata": {
    "deletable": true,
    "editable": true
   },
   "source": [
    "### Floyd Warshall Algorithm"
   ]
  },
  {
   "cell_type": "code",
   "execution_count": null,
   "metadata": {
    "collapsed": false,
    "deletable": true,
    "editable": true
   },
   "outputs": [],
   "source": [
    "\"\"\"\n",
    "    Takes an adjacency matrix representing a graph and returns a new matrix\n",
    "    with matrix[i, j] containg the shortest path between node i and node j.\n",
    "\"\"\"\n",
    "def floyd_warshall(graph):\n",
    "    g = grap[:][:]\n",
    "    n_nodes = len(g)\n",
    "    floyd_warshall_helper(g, n_nodes - 1)\n",
    "    \n",
    "    return g\n",
    "\n",
    "\"\"\" \n",
    "    Takes a matrix representing a graph and modifies that matrix\n",
    "    so that at the end of the function graph[i, j] contains the shortest path between\n",
    "    node i and node j using only nodes in the set {0,1, .., k} as intermediary nodes, \n",
    "    which we will call sp(i, j, k).\n",
    "      We have sp(i, j, k) = min(sp(i, j, k - 1), sp(i, k, k - 1) + sp(k, j, k - 1)).\n",
    "    This is saying that the shortest path from i to j using nodes {0, 1, .., k} is \n",
    "    the minimum between going from i to j using only nodes {0,1, .., k - 1}, and the\n",
    "    sum of first going from i to k and then from j to k (both steps still with nodes {0,1, .., k - 1}).\n",
    "\"\"\"\n",
    "def floyd_warshall_helper(graph, k):\n",
    "    if k == -1:\n",
    "        # No intermediary node, leave the original adjacency matrix unchanged\n",
    "        return\n",
    "    \n",
    "    # Run recursively\n",
    "    floyd_warshall_helper(graph, k - 1)\n",
    "    # Now graph[i][j] contains the shortest path using node {0, 1, .., k - 1} as intermediary\n",
    "    \n",
    "    n_nodes = len(g)\n",
    "    # Update distance to get from i to j, for every i and j\n",
    "    for i in n_nodes:\n",
    "        for j in n_nodes:\n",
    "            graph[i][j] = min(graph[i][j], graph[i][k] + graph[k][j])"
   ]
  }
 ],
 "metadata": {
  "kernelspec": {
   "display_name": "Python 3",
   "language": "python",
   "name": "python3"
  },
  "language_info": {
   "codemirror_mode": {
    "name": "ipython",
    "version": 3
   },
   "file_extension": ".py",
   "mimetype": "text/x-python",
   "name": "python",
   "nbconvert_exporter": "python",
   "pygments_lexer": "ipython3",
   "version": "3.5.2"
  }
 },
 "nbformat": 4,
 "nbformat_minor": 2
}
