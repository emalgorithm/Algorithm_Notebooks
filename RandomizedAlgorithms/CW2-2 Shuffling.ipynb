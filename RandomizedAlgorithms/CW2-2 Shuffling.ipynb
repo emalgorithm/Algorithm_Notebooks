{
 "cells": [
  {
   "cell_type": "markdown",
   "metadata": {
    "deletable": true,
    "editable": true
   },
   "source": [
    "# Random Shuffling"
   ]
  },
  {
   "cell_type": "markdown",
   "metadata": {
    "deletable": true,
    "editable": true
   },
   "source": [
    "## Preliminaries: helper functions"
   ]
  },
  {
   "cell_type": "markdown",
   "metadata": {
    "deletable": true,
    "editable": true
   },
   "source": [
    "Here we define a collection of functions that will be useful for the rest of the notebook. You'll need to run this cell to get started."
   ]
  },
  {
   "cell_type": "code",
   "execution_count": 1,
   "metadata": {
    "collapsed": false,
    "deletable": true,
    "editable": true
   },
   "outputs": [],
   "source": [
    "%matplotlib inline\n",
    "from matplotlib import pyplot as plt\n",
    "import random\n",
    "import numpy as np\n",
    "import math"
   ]
  },
  {
   "cell_type": "markdown",
   "metadata": {
    "deletable": true,
    "editable": true
   },
   "source": [
    "## Random Shuffling"
   ]
  },
  {
   "cell_type": "markdown",
   "metadata": {
    "deletable": true,
    "editable": true
   },
   "source": [
    "### `random_sort_shuffle`"
   ]
  },
  {
   "cell_type": "markdown",
   "metadata": {
    "deletable": true,
    "editable": true
   },
   "source": [
    "The `random_sort_shuffle` function should follow the idea of using a random comparator for sorting the array `a`. "
   ]
  },
  {
   "cell_type": "code",
   "execution_count": 2,
   "metadata": {
    "collapsed": false,
    "deletable": true,
    "editable": true
   },
   "outputs": [],
   "source": [
    "from functools import cmp_to_key\n",
    "\n",
    "def comparator(a, b):\n",
    "    return random.randint(-1, 1)\n",
    "\n",
    "def random_sort_shuffle(a):\n",
    "    a.sort(key=cmp_to_key(comparator))"
   ]
  },
  {
   "cell_type": "markdown",
   "metadata": {
    "deletable": true,
    "editable": true
   },
   "source": [
    "### Another shuffling algorithm based on sorting, but uniform"
   ]
  },
  {
   "cell_type": "code",
   "execution_count": 3,
   "metadata": {
    "collapsed": true,
    "deletable": true,
    "editable": true
   },
   "outputs": [],
   "source": [
    "# Permute by sorting: Assign a random priority from 1 to n^3 to every element\n",
    "# Cormen page 125\n",
    "def random_sort_shuffle_uniform(a):\n",
    "    n = len(a)\n",
    "    a.sort(key=lambda _: random.randint(1, n ** 3))"
   ]
  },
  {
   "cell_type": "markdown",
   "metadata": {
    "deletable": true,
    "editable": true
   },
   "source": [
    "### `fisher_yates_shuffle`"
   ]
  },
  {
   "cell_type": "code",
   "execution_count": 4,
   "metadata": {
    "collapsed": false,
    "deletable": true,
    "editable": true
   },
   "outputs": [],
   "source": [
    "def swap(a, i, j):\n",
    "    a[i], a[j] = a[j], a[i]\n",
    "    \n",
    "def fisher_yates_shuffle(a):\n",
    "    n = len(a)\n",
    "    for i in range(n - 1):\n",
    "        j = random.randint(i, n - 1)  \n",
    "        swap(a, i, j)"
   ]
  },
  {
   "cell_type": "markdown",
   "metadata": {
    "deletable": true,
    "editable": true
   },
   "source": [
    "### Buggy `fisher_yates_shuffle`"
   ]
  },
  {
   "cell_type": "code",
   "execution_count": 5,
   "metadata": {
    "collapsed": false,
    "deletable": true,
    "editable": true
   },
   "outputs": [],
   "source": [
    "# Choose the element to swap from a subarray not containing the current index \n",
    "# Iterate forward\n",
    "# Permute-Without-Identity from Cormen\n",
    "def fisher_yates_shuffle_buggy1(a):\n",
    "    n = len(a)\n",
    "    for i in range(n - 1):     \n",
    "        j = random.randint(i + 1, n - 1)  # the (1, i - 1) error in the slides\n",
    "        swap(a, i, j)\n",
    "        \n",
    "# Choose the element to swap from the whole array at every iteration. \n",
    "# Iterate forward up to penultimate element \n",
    "def fisher_yates_shuffle_buggy2(a):\n",
    "    n = len(a)\n",
    "    for i in range(n - 1):\n",
    "        j = random.randint(0, n - 1)    # the (0, n) error in the slides\n",
    "        swap(a, i, j)"
   ]
  },
  {
   "cell_type": "markdown",
   "metadata": {
    "deletable": true,
    "editable": true
   },
   "source": [
    "### Other buggy implementations"
   ]
  },
  {
   "cell_type": "code",
   "execution_count": 6,
   "metadata": {
    "collapsed": false,
    "deletable": true,
    "editable": true
   },
   "outputs": [],
   "source": [
    "# Choose the element to swap from the whole array at every iteration \n",
    "# Iterate forward\n",
    "# Permute-With-All from Cormen \n",
    "def permute_with_all(a):\n",
    "    n = len(a)\n",
    "    for i in range(n):\n",
    "        j = random.randint(0, n - 1)    \n",
    "        swap(a, i, j)\n",
    "        \n",
    "# Choose a random offset and then shift the array with that offset      \n",
    "# Permute-By-Cyclic from Cormen\n",
    "def permute_by_cyclic(a):\n",
    "    n = len(a)\n",
    "    offset = random.randint(0, n - 1)\n",
    "    b = a[-offset:] + a[:-offset]\n",
    "    \n",
    "    # Only way to actually change the values in a also outside this function\n",
    "    for i in range(n):\n",
    "        a[i] = b[i]"
   ]
  },
  {
   "cell_type": "markdown",
   "metadata": {
    "deletable": true,
    "editable": true
   },
   "source": [
    "### Empirical analysis"
   ]
  },
  {
   "cell_type": "code",
   "execution_count": 7,
   "metadata": {
    "collapsed": true,
    "deletable": true,
    "editable": true
   },
   "outputs": [],
   "source": [
    "# Returns the swap matrix generated by running the \n",
    "# shuffle_function on [0, 1, 2, ..., n_of_elems] 'times' times \n",
    "# Column: index before shuffling\n",
    "# Row: Index after shuffling\n",
    "def swap_matrix(shuffle_function, n_of_elems, times):\n",
    "    matrix = np.zeros((n_of_elems, n_of_elems), dtype=np.int)\n",
    "\n",
    "    for _ in range(times):\n",
    "        l_copy = [x for x in range(0, n_of_elems)]\n",
    "        shuffle_function(l_copy)\n",
    "\n",
    "        # Keep track of how many times index j is at position i\n",
    "        for i in range(n_of_elems):\n",
    "            matrix[l_copy[i]][i] += 1\n",
    "    \n",
    "    return matrix"
   ]
  },
  {
   "cell_type": "code",
   "execution_count": 8,
   "metadata": {
    "collapsed": false,
    "deletable": true,
    "editable": true
   },
   "outputs": [],
   "source": [
    "def plot_matrixes(matrixes):\n",
    "    columns = len(matrixes)\n",
    "    rows = 1\n",
    "    fig, axs = plt.subplots(rows, columns, figsize=(15, 10))\n",
    "    \n",
    "    for j in range(columns):\n",
    "        axs[j].imshow(eval(matrixes[j]))\n",
    "        axs[j].set_title(matrixes[j])\n",
    "                \n",
    "    plt.show()"
   ]
  },
  {
   "cell_type": "code",
   "execution_count": null,
   "metadata": {
    "collapsed": false,
    "deletable": true,
    "editable": true,
    "scrolled": true
   },
   "outputs": [],
   "source": [
    "times = 10000\n",
    "n_of_elems = 50\n",
    "\n",
    "random_sort_swap_matrix = swap_matrix(random_sort_shuffle, n_of_elems, times)      \n",
    "\n",
    "fisher_yates_swap_matrix = swap_matrix(fisher_yates_shuffle, n_of_elems, times)\n",
    "\n",
    "fisher_yates_buggy1_swap_matrix = swap_matrix(fisher_yates_shuffle_buggy1, n_of_elems, times)\n",
    "\n",
    "fisher_yates_buggy2_swap_matrix = swap_matrix(fisher_yates_shuffle_buggy2, n_of_elems, times)\n",
    "\n",
    "matrixes = [\n",
    "            'random_sort_swap_matrix',\n",
    "            'fisher_yates_swap_matrix',\n",
    "            'fisher_yates_buggy1_swap_matrix',\n",
    "            'fisher_yates_buggy2_swap_matrix',\n",
    "           ]\n",
    "\n",
    "plot_matrixes(matrixes)"
   ]
  },
  {
   "cell_type": "markdown",
   "metadata": {
    "deletable": true,
    "editable": true
   },
   "source": [
    "From the charts above, we can see that the Fisher Yates Shuffle is the best shuffling algorithm: it produces uniformly random permutations.\n",
    "\n",
    "Then we have several not uniform algorithms:\n",
    "\n",
    " - Fisher Yates Buggy 1: We can see that is generally uniform, apart from the diagonal. This is because an element initially in position i never ends up in position i after the swap.\n",
    "\n",
    " - Random Sort Shuffling: The chart looks extremely dark, but we can spot a very bright point that corresponds to the position (0, 0), and in general elements close to the diagonal are lighter than elements further away. This is because, for an element in order to be swapped many times, it needs to get the same result from the random comparator again and again, which is unlikely.\n",
    "\n",
    " - Fisher Yates Buggy 2: Again this chart is quite difficult to read since it's almost completely dark blue, but we can spot a very bright element in position (n, n), meaning that the last element rarely changes its position. This is because the loop doesn't include this element, and therefore it can be swapped only if another element gets its index from the random generator, whereas other elements gets quite likely swapped also when it's their turn in the loop. Since that last element has such a high frequence of appearence in the last position, others values, even if close between them, all appear blue being so small comparared to that frequence."
   ]
  },
  {
   "cell_type": "markdown",
   "metadata": {
    "deletable": true,
    "editable": true
   },
   "source": [
    "### Additional Algorithms"
   ]
  },
  {
   "cell_type": "code",
   "execution_count": null,
   "metadata": {
    "collapsed": false,
    "deletable": true,
    "editable": true
   },
   "outputs": [],
   "source": [
    "random_sort_uniform_swap_matrix = swap_matrix(random_sort_shuffle_uniform, n_of_elems, times)      \n",
    "\n",
    "permute_with_all_swap_matrix = swap_matrix(permute_with_all, n_of_elems, times)\n",
    "\n",
    "permute_by_cyclic_swap_matrix = swap_matrix(permute_by_cyclic, n_of_elems, times)\n",
    "\n",
    "additional_matrixes = [\n",
    "            'random_sort_uniform_swap_matrix',\n",
    "            'permute_with_all_swap_matrix',\n",
    "            'permute_by_cyclic_swap_matrix',\n",
    "           ]\n",
    "\n",
    "plot_matrixes(additional_matrixes)"
   ]
  },
  {
   "cell_type": "markdown",
   "metadata": {
    "deletable": true,
    "editable": true
   },
   "source": [
    "Random Sort Uniform, which assign every element a priority between 1 and $\\frac{1}{n^3}$, produces uniformly random permutations, assuming the elements have distinct priorities. Since the probability that all the elements have distinct priorities is very high in this case, we can see from the chart how this algorithm produces a result similar to Fisher Yates algorithm. \n",
    "However, while Random Sort Uniform runs in $\\\\{O}(n^2)$, Fisher Yates runs in only $\\\\{O}(n)$. On the other hand, an advantage of the former is that it has a simple parallel implementation, unlike Fisher Yates, which is sequential.\n",
    "\n",
    "Permute_With_All has a more subtle bug compared to the other buggy implementations. The swap matrix suggests that is not uniform. The reason for this is that this algorithm can create $n^n$ sequences of swaps (n possible swaps for every index). But we know that we have only $n!$ permutations, and $n!$ doesn't divide $n^n$ evenly. Therefore, since every sequence of swaps will result in some permutation, this means that some permutations are more likely than others.\n",
    "\n",
    "Permute_by_cyclic looks like it has similar colors to Fisher Yates, but it follows a very clear pattern: elements in a diagonal always have the same color. That is because the algorithm is actually only shifting the array. This means that even if every element has a $\\frac{1}{n}$ probability of ending up in each position, only $n$ permutations out of the $n!$ possible can actually be generated.\n",
    " "
   ]
  },
  {
   "cell_type": "code",
   "execution_count": null,
   "metadata": {
    "collapsed": true
   },
   "outputs": [],
   "source": []
  },
  {
   "cell_type": "code",
   "execution_count": null,
   "metadata": {
    "collapsed": true
   },
   "outputs": [],
   "source": []
  },
  {
   "cell_type": "code",
   "execution_count": null,
   "metadata": {
    "collapsed": true
   },
   "outputs": [],
   "source": []
  },
  {
   "cell_type": "code",
   "execution_count": null,
   "metadata": {
    "collapsed": true
   },
   "outputs": [],
   "source": []
  },
  {
   "cell_type": "code",
   "execution_count": null,
   "metadata": {
    "collapsed": true
   },
   "outputs": [],
   "source": []
  },
  {
   "cell_type": "code",
   "execution_count": null,
   "metadata": {
    "collapsed": true
   },
   "outputs": [],
   "source": []
  },
  {
   "cell_type": "code",
   "execution_count": null,
   "metadata": {
    "collapsed": true
   },
   "outputs": [],
   "source": []
  },
  {
   "cell_type": "code",
   "execution_count": null,
   "metadata": {
    "collapsed": true
   },
   "outputs": [],
   "source": []
  },
  {
   "cell_type": "code",
   "execution_count": null,
   "metadata": {
    "collapsed": true
   },
   "outputs": [],
   "source": []
  },
  {
   "cell_type": "code",
   "execution_count": null,
   "metadata": {
    "collapsed": true
   },
   "outputs": [],
   "source": []
  },
  {
   "cell_type": "code",
   "execution_count": null,
   "metadata": {
    "collapsed": true
   },
   "outputs": [],
   "source": []
  },
  {
   "cell_type": "code",
   "execution_count": null,
   "metadata": {
    "collapsed": true
   },
   "outputs": [],
   "source": []
  },
  {
   "cell_type": "code",
   "execution_count": null,
   "metadata": {
    "collapsed": true
   },
   "outputs": [],
   "source": []
  },
  {
   "cell_type": "code",
   "execution_count": null,
   "metadata": {
    "collapsed": true
   },
   "outputs": [],
   "source": []
  }
 ],
 "metadata": {
  "kernelspec": {
   "display_name": "Python 3",
   "language": "python",
   "name": "python3"
  },
  "language_info": {
   "codemirror_mode": {
    "name": "ipython",
    "version": 3
   },
   "file_extension": ".py",
   "mimetype": "text/x-python",
   "name": "python",
   "nbconvert_exporter": "python",
   "pygments_lexer": "ipython3",
   "version": "3.5.2"
  }
 },
 "nbformat": 4,
 "nbformat_minor": 0
}
