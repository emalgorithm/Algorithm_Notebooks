{
 "cells": [
  {
   "cell_type": "markdown",
   "metadata": {
    "deletable": true,
    "editable": true
   },
   "source": [
    "# Algorithms 202: Coursework 1 Task 2: Dynamic Programming"
   ]
  },
  {
   "cell_type": "markdown",
   "metadata": {
    "deletable": true,
    "editable": true
   },
   "source": [
    "Group-ID: 15"
   ]
  },
  {
   "cell_type": "markdown",
   "metadata": {
    "deletable": true,
    "editable": true
   },
   "source": [
    "Group members: Emanuele Rossi, Nikolay Yotov, Tencho Tenev"
   ]
  },
  {
   "cell_type": "markdown",
   "metadata": {
    "deletable": true,
    "editable": true
   },
   "source": [
    "# Objectives"
   ]
  },
  {
   "cell_type": "markdown",
   "metadata": {
    "deletable": true,
    "editable": true
   },
   "source": [
    "The aim of this coursework is to enhance your algorithmic skills by mastering the divide and conquer and dynamic programming strategies. You are asked to show that you can:\n",
    "\n",
    "- implement dynamic programming algorithms\n",
    "- run an experimental analysis to find the answer for a given problem\n",
    "\n",
    "This notebook *is* the coursework. It contains cells with function definitions that you will need to complete. You will submit this notebook as your coursework.\n",
    "\n",
    "The comparisons of different algorithms involve textual descriptions and graphical plots. For graphing you will be using [matplotlib](http://matplotlib.org/index.html) to generate plots. [This tutorial](http://matplotlib.org/index.html) will be useful to go through to get you up to speed. For the textual descriptions you may wish to use [LaTeX](http://en.wikipedia.org/wiki/LaTeX) inline like $\\mathcal{O}(n\\log{}n)$. Double click this cell to reveal the required markup - and [see here](http://texblog.org/2014/06/24/big-o-and-related-notations-in-latex/) for useful guidance on producing common symbols used in asymptotic run time analysis."
   ]
  },
  {
   "cell_type": "markdown",
   "metadata": {
    "deletable": true,
    "editable": true
   },
   "source": [
    "# Preliminaries: helper functions"
   ]
  },
  {
   "cell_type": "markdown",
   "metadata": {
    "deletable": true,
    "editable": true
   },
   "source": [
    "Here we define a collection of functions that will be useful for the rest of the coursework. You'll need to run this cell to get started."
   ]
  },
  {
   "cell_type": "code",
   "execution_count": null,
   "metadata": {
    "collapsed": false,
    "deletable": true,
    "editable": true
   },
   "outputs": [],
   "source": [
    "# so our plots get drawn in the notebook\n",
    "%matplotlib inline\n",
    "from matplotlib import pyplot as plt\n",
    "import numpy as np\n",
    "from pathlib import Path\n",
    "from sys import maxsize\n",
    "from time import clock\n",
    "from urllib.request import urlretrieve\n",
    "\n",
    "# a timer - runs the provided function and reports the\n",
    "# run time in ms\n",
    "def time_f(f):\n",
    "    before = clock()\n",
    "    f()\n",
    "    after = clock()\n",
    "    return after - before\n",
    "\n",
    "# we can get a word list from here - we download it once\n",
    "# to 'wordlist.txt' and then reuse this file.\n",
    "url = 'http://www.doc.ic.ac.uk/~bglocker/teaching/wordlist.txt'\n",
    "if not Path('wordlist.txt').exists():\n",
    "    print(\"downloading word list...\")\n",
    "    urlretrieve(url, 'wordlist.txt')\n",
    "    print('acquired word list.')\n",
    "    \n",
    "with open('wordlist.txt') as f:\n",
    "    # here we use a *set* comprehension - just\n",
    "    # like we've done with lists in the past but\n",
    "    # the result is a set so each element is\n",
    "    # guaranteed to be unique.\n",
    "    # https://docs.python.org/3/tutorial/datastructures.html#sets\n",
    "    # note that you can loop over a set just like you would a list\n",
    "    wordlist = {l.strip() for l in f.readlines()}\n",
    "    print(\"loaded set of words into 'wordlist' variable\")"
   ]
  },
  {
   "cell_type": "markdown",
   "metadata": {
    "deletable": true,
    "editable": true
   },
   "source": [
    "## Task 2: Dynamic Programming"
   ]
  },
  {
   "cell_type": "markdown",
   "metadata": {
    "deletable": true,
    "editable": true
   },
   "source": [
    "### 2a. Implement `levenshtein_distance`"
   ]
  },
  {
   "cell_type": "markdown",
   "metadata": {
    "deletable": true,
    "editable": true
   },
   "source": [
    "Complete the below definition for `levenshtein_distance`. Do not change the name of the function or it's arguments. \n",
    "\n",
    "\n",
    "Hints:\n",
    "\n",
    "- You are given access to numpy (`np`). Numpy is the crown jewel of the scientific Python community - it provides a multidimensional array (`np.array()`) which can be very convenient to solve problems involving matrices."
   ]
  },
  {
   "cell_type": "code",
   "execution_count": null,
   "metadata": {
    "collapsed": true,
    "deletable": true,
    "editable": true
   },
   "outputs": [],
   "source": [
    "def levenshtein_distance(x, y):\n",
    "    # complete function without changing signature\n",
    "    n = len(x)\n",
    "    m = len(y)\n",
    "    d = np.zeros((n + 1, m + 1))\n",
    "    for i in range (n + 1):\n",
    "        d[i, 0] = i\n",
    "    for j in range (m + 1):\n",
    "        d[0, j] = j\n",
    "    for i in range (1, m + 1):\n",
    "        for j in range (1, n + 1):\n",
    "            c = 0 if x[j - 1] == y[i - 1] else 1\n",
    "            d[j, i] = min(d[j - 1, i] + 1, min(d[j, i - 1] + 1, d[j - 1, i - 1] + c))\n",
    "    \n",
    "    return d[n, m]"
   ]
  },
  {
   "cell_type": "markdown",
   "metadata": {
    "deletable": true,
    "editable": true
   },
   "source": [
    "Use this test to confirm your implementation is correct."
   ]
  },
  {
   "cell_type": "code",
   "execution_count": null,
   "metadata": {
    "collapsed": false,
    "deletable": true,
    "editable": true
   },
   "outputs": [],
   "source": [
    "print(levenshtein_distance('sunny', 'snowy') == 3)\n",
    "print(levenshtein_distance('algorithm', 'altruistic') == 6)\n",
    "print(levenshtein_distance('imperial', 'empirical') == 3)\n",
    "print(levenshtein_distance('weird', 'wired') == 2)"
   ]
  },
  {
   "cell_type": "markdown",
   "metadata": {
    "deletable": true,
    "editable": true
   },
   "source": [
    "### 2b. Find the minimum levenshtein distance"
   ]
  },
  {
   "cell_type": "markdown",
   "metadata": {
    "deletable": true,
    "editable": true
   },
   "source": [
    "Use your `levenshtein_distance` function to find the `closest_match` between a `candidate` word and an iterable of `words`. Note that if multiple words from `words` share the minimal edit distance to the `candidate`, you should return the word which would come first in a dictionary. \n",
    "\n",
    "As a concrete example, `zark` has an edit distance of 1 with both `ark` and `bark`, but you would return `ark` as it comes lexicographically before `bark`.\n",
    "\n",
    "Your function should return a tuple of two values - first the closest word match, and secondly the edit distance between this word and the candidate.\n",
    "\n",
    "```python\n",
    "closest, distance = closest_match('zark', ['ark', 'bark', ...])\n",
    "assert closest == 'ark'\n",
    "assert distance == 1\n",
    "```"
   ]
  },
  {
   "cell_type": "code",
   "execution_count": null,
   "metadata": {
    "collapsed": true,
    "deletable": true,
    "editable": true
   },
   "outputs": [],
   "source": [
    "def closest_match(candidate, words):\n",
    "    # complete function without changing signature\n",
    "    n = len(words)\n",
    "    max_edit_dist = len(candidate)+1\n",
    "    closest_word = \"\"\n",
    "    for word in words:\n",
    "        temp = levenshtein_distance(candidate, word)\n",
    "        if temp < max_edit_dist :\n",
    "            max_edit_dist = temp\n",
    "            closest_word = word\n",
    "    return closest_word, max_edit_dist"
   ]
  },
  {
   "cell_type": "markdown",
   "metadata": {
    "deletable": true,
    "editable": true
   },
   "source": [
    "Run the below cell to test your implementation"
   ]
  },
  {
   "cell_type": "code",
   "execution_count": null,
   "metadata": {
    "collapsed": false,
    "deletable": true,
    "editable": true
   },
   "outputs": [],
   "source": [
    "# A one liner that queries closest_match and then prints the result\n",
    "print_closest = lambda w, wl: print('{}: {} ({})'.format(w, *closest_match(w, wl)))\n",
    "\n",
    "print_closest('zilophone', wordlist)\n",
    "print_closest('inconsidrable', wordlist)\n",
    "print_closest('bisamfiguatd', wordlist)"
   ]
  },
  {
   "cell_type": "markdown",
   "metadata": {
    "deletable": true,
    "editable": true
   },
   "source": [
    "**Discuss in a few lines the running time of `closest_match`. Can you propose any ideas for making this faster? (Only discuss those in words, no need to do any implementations, unless you want to.)**"
   ]
  },
  {
   "cell_type": "markdown",
   "metadata": {
    "deletable": true,
    "editable": true
   },
   "source": [
    "*Replace with your discussion...*"
   ]
  },
  {
   "cell_type": "markdown",
   "metadata": {
    "deletable": true,
    "editable": true
   },
   "source": [
    "### 2c. Coin change problem"
   ]
  },
  {
   "cell_type": "markdown",
   "metadata": {
    "deletable": true,
    "editable": true
   },
   "source": [
    "Coin change is the problem of finding the least number of coins for a given amount of money.\n",
    "\n",
    "For example, the UK coin set contains the following coins:\n",
    "1p, 2p, 5p, 10p, 20p, 50p, £1, £2, and £5 (very uncommon).\n",
    "For £2.82, the optimal change is £2, 50p, 20p, 10p, 2p.\n",
    "\n",
    "i) Implement the `coin_change` function and answer the following questions by running an experimental analysis.\n",
    "\n",
    "ii) How many coins are needed on average to represent any amounts between £0.01 and £5.00 with the UK coin set?\n",
    "\n",
    "iii) How many more coins are needed on average to represent any amounts between £0.01 and £5.00 if we were to remove both the 10p and 20p coins from the UK coin set?\n",
    "\n",
    "iv) If you had to decide whether to keep the 10p or the 20p coin in the UK coin set, which one would you choose?"
   ]
  },
  {
   "cell_type": "code",
   "execution_count": null,
   "metadata": {
    "collapsed": false,
    "deletable": true,
    "editable": true
   },
   "outputs": [],
   "source": [
    "def coin_change(n, coins):\n",
    "    return coin_change_top_down(n, coins)"
   ]
  },
  {
   "cell_type": "markdown",
   "metadata": {},
   "source": [
    "# Naive Implementation"
   ]
  },
  {
   "cell_type": "code",
   "execution_count": null,
   "metadata": {
    "collapsed": true
   },
   "outputs": [],
   "source": [
    "def coin_change_naive(n,coins):\n",
    "    change = [0 for x in range(n + 1)]\n",
    "    \n",
    "    def coin_change_helper(n, coins):\n",
    "        # n is 0, basecase. We need no coins\n",
    "        if n == 0:\n",
    "            return 0, change\n",
    "        \n",
    "        sol = -1\n",
    "        # Try every possible coin and recursively compute the best solution\n",
    "        for c in reversed(coins):\n",
    "            if n - c >= 0:\n",
    "                sol_t, _ = coin_change_helper(n - c, coins)\n",
    "                sol_t = sol_t + 1\n",
    "                if sol_t < sol or sol == -1:\n",
    "                    sol = sol_t\n",
    "                    change[n] = c\n",
    "\n",
    "        return sol, change\n",
    "    \n",
    "    return coin_change_helper(n, coins)"
   ]
  },
  {
   "cell_type": "markdown",
   "metadata": {},
   "source": [
    "# DP Top Down Implementation"
   ]
  },
  {
   "cell_type": "code",
   "execution_count": null,
   "metadata": {
    "collapsed": true
   },
   "outputs": [],
   "source": [
    "def coin_change_top_down(n, coins): \n",
    "    change = [0 for x in range(n + 1)]\n",
    "    sol = [0 for x in range(n + 1)]\n",
    "    \n",
    "    def coin_change_helper(n, coins):\n",
    "        # n is 0, basecase. We need no coins\n",
    "        if n == 0:\n",
    "            return 0, change\n",
    "\n",
    "        # We have already computed the solution, just return it \n",
    "        if sol[n] != 0:\n",
    "            return sol[n], change\n",
    "\n",
    "        # Try every possible coin and recursively compute the best solution\n",
    "        for c in reversed(coins):\n",
    "            if n - c >= 0:\n",
    "                sol_t, _ = coin_change_helper(n - c, coins)\n",
    "                sol_t = sol_t + 1\n",
    "                if sol_t < sol[n] or sol[n] == 0:\n",
    "                    sol[n] = sol_t\n",
    "                    change[n] = c\n",
    "\n",
    "        return sol[n], change\n",
    "    \n",
    "    return coin_change_helper(n, coins)"
   ]
  },
  {
   "cell_type": "markdown",
   "metadata": {},
   "source": [
    "Top Down Implementation that tries coins in increasing order"
   ]
  },
  {
   "cell_type": "code",
   "execution_count": null,
   "metadata": {
    "collapsed": true,
    "deletable": true,
    "editable": true
   },
   "outputs": [],
   "source": [
    "def coin_change_top_down_increasing_ord(n, coins): \n",
    "    change = [0 for x in range(n + 1)]\n",
    "    sol = [0 for x in range(n + 1)]\n",
    "    \n",
    "    def coin_change_helper(n, coins):\n",
    "        # n is 0, basecase. We need no coins\n",
    "        if n == 0:\n",
    "            return 0, change\n",
    "\n",
    "        # We have already computed the solution, just return it \n",
    "        if sol[n] != 0:\n",
    "            return sol[n], change\n",
    "\n",
    "        # Try every possible coin and recursively compute the best solution\n",
    "        for c in coins:\n",
    "            if n - c >= 0:\n",
    "                sol_t, _ = coin_change_helper(n - c, coins)\n",
    "                sol_t = sol_t + 1\n",
    "                if sol_t < sol[n] or sol[n] == 0:\n",
    "                    sol[n] = sol_t\n",
    "                    change[n] = c\n",
    "\n",
    "        return sol[n], change\n",
    "    \n",
    "    return coin_change_helper(n, coins)"
   ]
  },
  {
   "cell_type": "markdown",
   "metadata": {
    "deletable": true,
    "editable": true
   },
   "source": [
    "# DP Bottom Up Implementation"
   ]
  },
  {
   "cell_type": "code",
   "execution_count": null,
   "metadata": {
    "collapsed": true,
    "deletable": true,
    "editable": true
   },
   "outputs": [],
   "source": [
    "def coin_change_bottom_up(n,coins):\n",
    "    dp = (n + max(coins))*[n]\n",
    "    dp_path = (n + max(coins))*[0]\n",
    "    \n",
    "    for coin in coins:\n",
    "        if coin <= n:\n",
    "            dp[coin] = 1\n",
    "            dp_path[coin] = coin\n",
    "        \n",
    "    for i in range(n):\n",
    "        for coin in coins:\n",
    "            if dp[i] + 1 < dp[i + coin]:\n",
    "                dp[i + coin] = dp[i] + 1\n",
    "                dp_path[i + coin] = coin\n",
    "                \n",
    "    return (dp[n], dp_path)"
   ]
  },
  {
   "cell_type": "markdown",
   "metadata": {
    "deletable": true,
    "editable": true
   },
   "source": [
    "# Greedy Implementation"
   ]
  },
  {
   "cell_type": "code",
   "execution_count": null,
   "metadata": {
    "collapsed": true
   },
   "outputs": [],
   "source": [
    "def coin_change_greedy(n, coins):\n",
    "    sol = 0\n",
    "    for c in reversed(coins):\n",
    "        if n >= c:\n",
    "            mod = n % c\n",
    "            times = (n - mod) / c\n",
    "            n = mod\n",
    "            sol = sol + times\n",
    "    return sol"
   ]
  },
  {
   "cell_type": "markdown",
   "metadata": {},
   "source": [
    "# Test all solutions against the naive solution, therefore with small input numbers"
   ]
  },
  {
   "cell_type": "code",
   "execution_count": null,
   "metadata": {
    "collapsed": false
   },
   "outputs": [],
   "source": [
    "test_coin_set = [1,2,5,10,20,50,100,200,500]\n",
    "test_data = [i for i in range(22)]\n",
    "\n",
    "for t in test_data:\n",
    "    assert coin_change_naive(t, test_coin_set)[0] == coin_change(t, test_coin_set)[0]\n",
    "    assert coin_change_naive(t, test_coin_set)[0] == coin_change_bottom_up(t, test_coin_set)[0]\n",
    "    assert coin_change_bottom_up(t, test_coin_set)[0] == coin_change_greedy(t, test_coin_set)"
   ]
  },
  {
   "cell_type": "markdown",
   "metadata": {},
   "source": [
    "# Test all efficient solutions (DP and greedy) against themselves"
   ]
  },
  {
   "cell_type": "code",
   "execution_count": null,
   "metadata": {
    "collapsed": false
   },
   "outputs": [],
   "source": [
    "test_coin_set = [1,2,5,10,20,50,100,200,500]\n",
    "test_data = [i for i in range(1200)]\n",
    "\n",
    "for t in test_data:\n",
    "    assert coin_change_bottom_up(t, test_coin_set)[0] == coin_change(t, test_coin_set)[0]\n",
    "    assert coin_change_bottom_up(t, test_coin_set)[0] == coin_change_greedy(t, test_coin_set)"
   ]
  },
  {
   "cell_type": "code",
   "execution_count": null,
   "metadata": {
    "collapsed": false,
    "deletable": true,
    "editable": true
   },
   "outputs": [],
   "source": [
    "def print_change(n,coins):\n",
    "    counts, change = coin_change_naive(n,coins)\n",
    "    while n > 0:\n",
    "        print(change[n])\n",
    "        n = n - change[n]\n",
    "\n",
    "UK_coin_set = [1,2,5,10,20,50,100,200,500]\n",
    "print_change(25,UK_coin_set)"
   ]
  },
  {
   "cell_type": "markdown",
   "metadata": {
    "deletable": true,
    "editable": true
   },
   "source": [
    "*Do your experimental analysis here...*"
   ]
  },
  {
   "cell_type": "code",
   "execution_count": null,
   "metadata": {
    "collapsed": false,
    "deletable": true,
    "editable": true
   },
   "outputs": [],
   "source": []
  },
  {
   "cell_type": "markdown",
   "metadata": {
    "deletable": true,
    "editable": true
   },
   "source": [
    "Answer questions (ii)-(iv) here."
   ]
  },
  {
   "cell_type": "code",
   "execution_count": null,
   "metadata": {
    "collapsed": false
   },
   "outputs": [],
   "source": [
    "# Avg number of coins from 0.01 to 5.00\n",
    "\n",
    "def get_avg(coin_set, start_amount=1, end_amount=500):\n",
    "    vals = []\n",
    "    for val in range (start_amount, end_amount + 1):\n",
    "        c, _ = coin_change(val, coin_set)\n",
    "        vals.append(c)\n",
    "    return sum(vals) / len(vals)\n",
    "    \n",
    "print('Average number of coins needed to represent amounts between 0.01 and 5.00 is', get_avg(UK_coin_set))\n",
    "\n",
    "# Avg number of coins from 0.01 to 5.00 if coins 10 and 20 are removed from coin set\n",
    "reduced_coin_set = [coin for coin in UK_coin_set if coin not in [10,20]]\n",
    "\n",
    "print('''Average number of coins needed to represent amounts between 0.01 and 5.00 \\\n",
    "without using coins of 10 and 20 is''', get_avg(reduced_coin_set))\n",
    "\n",
    "coin_set_wo_20_avg = get_avg(reduced_coin_set + [10])\n",
    "coin_set_wo_10_avg = get_avg(reduced_coin_set + [20])\n",
    "\n",
    "if coin_set_wo_20_avg <= coin_set_wo_10_avg:\n",
    "    if coin_set_wo_20_avg == coin_set_wo_10_avg:\n",
    "        print(\"It doesn't matter which one of the two coins is removed\")\n",
    "    else:\n",
    "        print(\"It's better to keep the coin 10\")\n",
    "else:\n",
    "    print(\"It's better to keep the coin 20\")"
   ]
  },
  {
   "cell_type": "markdown",
   "metadata": {},
   "source": [
    "# Analysis with small input numbers (Top Down DP vs Naive)"
   ]
  },
  {
   "cell_type": "code",
   "execution_count": null,
   "metadata": {
    "collapsed": true
   },
   "outputs": [],
   "source": [
    "data = range(1,23)"
   ]
  },
  {
   "cell_type": "code",
   "execution_count": null,
   "metadata": {
    "collapsed": false,
    "deletable": true,
    "editable": true
   },
   "outputs": [],
   "source": [
    "dp_top_down_res = []\n",
    "naive_res = []\n",
    "\n",
    "for i in data:\n",
    "    dp_top_down_res.append(time_f(lambda: coin_change_top_down(i, UK_coin_set)[0]))\n",
    "    naive_res.append(time_f(lambda: coin_change_naive(i, UK_coin_set)[0]))"
   ]
  },
  {
   "cell_type": "code",
   "execution_count": null,
   "metadata": {
    "collapsed": false,
    "deletable": true,
    "editable": true
   },
   "outputs": [],
   "source": [
    "%matplotlib inline\n",
    "from matplotlib import pyplot as plt\n",
    "\n",
    "top_down = plt.scatter(data, dp_top_down_res, c='red')\n",
    "naive = plt.scatter(data, naive_res, c='blue')\n",
    "\n",
    "plt.xlabel('n')\n",
    "plt.ylabel('time (/s)')\n",
    "plt.xlim(0)\n",
    "plt.ylim(0)\n",
    "\n",
    "plt.legend((top_down, naive),\n",
    "           ('Top Down', 'Naive'))"
   ]
  },
  {
   "cell_type": "markdown",
   "metadata": {},
   "source": [
    "# Analysis with big input numbers (naive excluded)"
   ]
  },
  {
   "cell_type": "code",
   "execution_count": null,
   "metadata": {
    "collapsed": true,
    "deletable": true,
    "editable": true
   },
   "outputs": [],
   "source": [
    "data = range(1,20000,100)"
   ]
  },
  {
   "cell_type": "code",
   "execution_count": null,
   "metadata": {
    "collapsed": false,
    "deletable": true,
    "editable": true
   },
   "outputs": [],
   "source": [
    "dp_top_down_res = []\n",
    "dp_bottom_up_res = []\n",
    "greedy_res = []\n",
    "\n",
    "for i in data:\n",
    "    dp_top_down_res.append(time_f(lambda: coin_change_top_down(i, UK_coin_set)))\n",
    "    dp_bottom_up_res.append(time_f(lambda: coin_change_bottom_up(i, UK_coin_set)))    \n",
    "    greedy_res.append(time_f(lambda: coin_change_greedy(i, UK_coin_set)))"
   ]
  },
  {
   "cell_type": "code",
   "execution_count": null,
   "metadata": {
    "collapsed": false,
    "deletable": true,
    "editable": true
   },
   "outputs": [],
   "source": [
    "%matplotlib inline\n",
    "from matplotlib import pyplot as plt\n",
    "\n",
    "top_down = plt.scatter(data, dp_top_down_res, c='red')\n",
    "bottom_up = plt.scatter(data, dp_bottom_up_res, c='blue')\n",
    "greedy = plt.scatter(data, greedy_res, c='green')\n",
    "\n",
    "plt.xlabel('n')\n",
    "plt.ylabel('time (/s)')\n",
    "plt.xlim(0)\n",
    "plt.ylim(0)\n",
    "\n",
    "plt.legend((top_down, bottom_up, greedy),\n",
    "           ('Top Down', 'Bottom Up', 'Greedy'))"
   ]
  },
  {
   "cell_type": "markdown",
   "metadata": {},
   "source": [
    "# Analysis between two Top Down implementations"
   ]
  },
  {
   "cell_type": "code",
   "execution_count": null,
   "metadata": {
    "collapsed": true,
    "deletable": true,
    "editable": true
   },
   "outputs": [],
   "source": [
    "data = range(1,4000,1)"
   ]
  },
  {
   "cell_type": "code",
   "execution_count": null,
   "metadata": {
    "collapsed": false,
    "deletable": true,
    "editable": true
   },
   "outputs": [],
   "source": [
    "import sys\n",
    "\n",
    "sys.setrecursionlimit(23000)\n",
    "\n",
    "dp_top_down_res = []\n",
    "dp_top_down_incr_res = []\n",
    "\n",
    "\n",
    "for i in data:\n",
    "    dp_top_down_res.append(time_f(lambda: coin_change_top_down(i, UK_coin_set)[0]))\n",
    "    dp_top_down_incr_res.append(time_f(lambda: coin_change_top_down_increasing_ord(i, UK_coin_set)[0]))    "
   ]
  },
  {
   "cell_type": "code",
   "execution_count": null,
   "metadata": {
    "collapsed": false,
    "deletable": true,
    "editable": true
   },
   "outputs": [],
   "source": [
    "%matplotlib inline\n",
    "from matplotlib import pyplot as plt\n",
    "\n",
    "top_down = plt.scatter(data, dp_top_down_res, c='red')\n",
    "top_down_incr = plt.scatter(data, dp_top_down_incr_res, c='blue')\n",
    "\n",
    "plt.xlabel('n')\n",
    "plt.ylabel('time (/s)')\n",
    "plt.xlim(0)\n",
    "plt.ylim(0)\n",
    "\n",
    "plt.legend((top_down, top_down_incr),\n",
    "           ('Top Down', 'Top Down Increasing Order'))"
   ]
  }
 ],
 "metadata": {
  "kernelspec": {
   "display_name": "Python 3",
   "language": "python",
   "name": "python3"
  },
  "language_info": {
   "codemirror_mode": {
    "name": "ipython",
    "version": 3
   },
   "file_extension": ".py",
   "mimetype": "text/x-python",
   "name": "python",
   "nbconvert_exporter": "python",
   "pygments_lexer": "ipython3",
   "version": "3.4.4"
  }
 },
 "nbformat": 4,
 "nbformat_minor": 0
}
