{
 "cells": [
  {
   "cell_type": "markdown",
   "metadata": {
    "deletable": true,
    "editable": true
   },
   "source": [
    "# Algorithms 202: Coursework 1 Task 2: Dynamic Programming"
   ]
  },
  {
   "cell_type": "markdown",
   "metadata": {
    "deletable": true,
    "editable": true
   },
   "source": [
    "Group-ID: XX"
   ]
  },
  {
   "cell_type": "markdown",
   "metadata": {
    "deletable": true,
    "editable": true
   },
   "source": [
    "Group members: ADD NAMES HERE "
   ]
  },
  {
   "cell_type": "markdown",
   "metadata": {
    "deletable": true,
    "editable": true
   },
   "source": [
    "# Objectives"
   ]
  },
  {
   "cell_type": "markdown",
   "metadata": {
    "deletable": true,
    "editable": true
   },
   "source": [
    "The aim of this coursework is to enhance your algorithmic skills by mastering the divide and conquer and dynamic programming strategies. You are asked to show that you can:\n",
    "\n",
    "- implement dynamic programming algorithms\n",
    "- run an experimental analysis to find the answer for a given problem\n",
    "\n",
    "This notebook *is* the coursework. It contains cells with function definitions that you will need to complete. You will submit this notebook as your coursework.\n",
    "\n",
    "The comparisons of different algorithms involve textual descriptions and graphical plots. For graphing you will be using [matplotlib](http://matplotlib.org/index.html) to generate plots. [This tutorial](http://matplotlib.org/index.html) will be useful to go through to get you up to speed. For the textual descriptions you may wish to use [LaTeX](http://en.wikipedia.org/wiki/LaTeX) inline like $\\mathcal{O}(n\\log{}n)$. Double click this cell to reveal the required markup - and [see here](http://texblog.org/2014/06/24/big-o-and-related-notations-in-latex/) for useful guidance on producing common symbols used in asymptotic run time analysis."
   ]
  },
  {
   "cell_type": "markdown",
   "metadata": {
    "deletable": true,
    "editable": true
   },
   "source": [
    "# Preliminaries: helper functions"
   ]
  },
  {
   "cell_type": "markdown",
   "metadata": {
    "deletable": true,
    "editable": true
   },
   "source": [
    "Here we define a collection of functions that will be useful for the rest of the coursework. You'll need to run this cell to get started."
   ]
  },
  {
   "cell_type": "code",
   "execution_count": null,
   "metadata": {
    "collapsed": false,
    "deletable": true,
    "editable": true
   },
   "outputs": [],
   "source": [
    "# so our plots get drawn in the notebook\n",
    "%matplotlib inline\n",
    "from matplotlib import pyplot as plt\n",
    "import numpy as np\n",
    "from pathlib import Path\n",
    "from sys import maxsize\n",
    "from time import clock\n",
    "from urllib.request import urlretrieve\n",
    "\n",
    "# a timer - runs the provided function and reports the\n",
    "# run time in ms\n",
    "def time_f(f):\n",
    "    before = clock()\n",
    "    f()\n",
    "    after = clock()\n",
    "    return after - before\n",
    "\n",
    "# we can get a word list from here - we download it once\n",
    "# to 'wordlist.txt' and then reuse this file.\n",
    "url = 'http://www.doc.ic.ac.uk/~bglocker/teaching/wordlist.txt'\n",
    "if not Path('wordlist.txt').exists():\n",
    "    print(\"downloading word list...\")\n",
    "    urlretrieve(url, 'wordlist.txt')\n",
    "    print('acquired word list.')\n",
    "    \n",
    "with open('wordlist.txt') as f:\n",
    "    # here we use a *set* comprehension - just\n",
    "    # like we've done with lists in the past but\n",
    "    # the result is a set so each element is\n",
    "    # guaranteed to be unique.\n",
    "    # https://docs.python.org/3/tutorial/datastructures.html#sets\n",
    "    # note that you can loop over a set just like you would a list\n",
    "    wordlist = {l.strip() for l in f.readlines()}\n",
    "    print(\"loaded set of words into 'wordlist' variable\")"
   ]
  },
  {
   "cell_type": "markdown",
   "metadata": {
    "deletable": true,
    "editable": true
   },
   "source": [
    "## Task 2: Dynamic Programming"
   ]
  },
  {
   "cell_type": "markdown",
   "metadata": {
    "deletable": true,
    "editable": true
   },
   "source": [
    "### 2a. Implement `levenshtein_distance`"
   ]
  },
  {
   "cell_type": "markdown",
   "metadata": {
    "deletable": true,
    "editable": true
   },
   "source": [
    "Complete the below definition for `levenshtein_distance`. Do not change the name of the function or it's arguments. \n",
    "\n",
    "\n",
    "Hints:\n",
    "\n",
    "- You are given access to numpy (`np`). Numpy is the crown jewel of the scientific Python community - it provides a multidimensional array (`np.array()`) which can be very convenient to solve problems involving matrices."
   ]
  },
  {
   "cell_type": "code",
   "execution_count": null,
   "metadata": {
    "collapsed": true,
    "deletable": true,
    "editable": true
   },
   "outputs": [],
   "source": [
    "def levenshtein_distance(x, y):\n",
    "    # complete function without changing signature\n",
    "    pass"
   ]
  },
  {
   "cell_type": "markdown",
   "metadata": {
    "deletable": true,
    "editable": true
   },
   "source": [
    "Use this test to confirm your implementation is correct."
   ]
  },
  {
   "cell_type": "code",
   "execution_count": null,
   "metadata": {
    "collapsed": false,
    "deletable": true,
    "editable": true
   },
   "outputs": [],
   "source": [
    "print(levenshtein_distance('sunny', 'snowy') == 3)\n",
    "print(levenshtein_distance('algorithm', 'altruistic') == 6)\n",
    "print(levenshtein_distance('imperial', 'empirical') == 3)\n",
    "print(levenshtein_distance('weird', 'wired') == 2)"
   ]
  },
  {
   "cell_type": "markdown",
   "metadata": {
    "deletable": true,
    "editable": true
   },
   "source": [
    "### 2b. Find the minimum levenshtein distance"
   ]
  },
  {
   "cell_type": "markdown",
   "metadata": {
    "deletable": true,
    "editable": true
   },
   "source": [
    "Use your `levenshtein_distance` function to find the `closest_match` between a `candidate` word and an iterable of `words`. Note that if multiple words from `words` share the minimal edit distance to the `candidate`, you should return the word which would come first in a dictionary. \n",
    "\n",
    "As a concrete example, `zark` has an edit distance of 1 with both `ark` and `bark`, but you would return `ark` as it comes lexicographically before `bark`.\n",
    "\n",
    "Your function should return a tuple of two values - first the closest word match, and secondly the edit distance between this word and the candidate.\n",
    "\n",
    "```python\n",
    "closest, distance = closest_match('zark', ['ark', 'bark', ...])\n",
    "assert closest == 'ark'\n",
    "assert distance == 1\n",
    "```"
   ]
  },
  {
   "cell_type": "code",
   "execution_count": null,
   "metadata": {
    "collapsed": true,
    "deletable": true,
    "editable": true
   },
   "outputs": [],
   "source": [
    "def closest_match(candidate, words):\n",
    "    # complete function without changing signature\n",
    "    pass"
   ]
  },
  {
   "cell_type": "markdown",
   "metadata": {
    "deletable": true,
    "editable": true
   },
   "source": [
    "Run the below cell to test your implementation"
   ]
  },
  {
   "cell_type": "code",
   "execution_count": null,
   "metadata": {
    "collapsed": false,
    "deletable": true,
    "editable": true
   },
   "outputs": [],
   "source": [
    "# A one liner that queries closest_match and then prints the result\n",
    "print_closest = lambda w, wl: print('{}: {} ({})'.format(w, *closest_match(w, wl)))\n",
    "\n",
    "print_closest('zilophone', wordlist)\n",
    "print_closest('inconsidrable', wordlist)\n",
    "print_closest('bisamfiguatd', wordlist)"
   ]
  },
  {
   "cell_type": "markdown",
   "metadata": {
    "deletable": true,
    "editable": true
   },
   "source": [
    "**Discuss in a few lines the running time of `closest_match`. Can you propose any ideas for making this faster? (Only discuss those in words, no need to do any implementations, unless you want to.)**"
   ]
  },
  {
   "cell_type": "markdown",
   "metadata": {
    "deletable": true,
    "editable": true
   },
   "source": [
    "*Replace with your discussion...*"
   ]
  },
  {
   "cell_type": "markdown",
   "metadata": {
    "deletable": true,
    "editable": true
   },
   "source": [
    "### 2c. Coin change problem"
   ]
  },
  {
   "cell_type": "markdown",
   "metadata": {
    "deletable": true,
    "editable": true
   },
   "source": [
    "Coin change is the problem of finding the least number of coins for a given amount of money.\n",
    "\n",
    "For example, the UK coin set contains the following coins:\n",
    "1p, 2p, 5p, 10p, 20p, 50p, £1, £2, and £5 (very uncommon).\n",
    "For £2.82, the optimal change is £2, 50p, 20p, 10p, 2p.\n",
    "\n",
    "i) Implement the `coin_change` function and answer the following questions by running an experimental analysis.\n",
    "\n",
    "ii) How many coins are needed on average to represent any amounts between £0.01 and £5.00 with the UK coin set?\n",
    "\n",
    "iii) How many more coins are needed on average to represent any amounts between £0.01 and £5.00 if we were to remove both the 10p and 20p coins from the UK coin set?\n",
    "\n",
    "iv) If you had to decide whether to keep the 10p or the 20p coin in the UK coin set, which one would you choose?"
   ]
  },
  {
   "cell_type": "code",
   "execution_count": null,
   "metadata": {
    "collapsed": false,
    "deletable": true,
    "editable": true
   },
   "outputs": [],
   "source": [
    "change = [0 for x in range(10000)]\n",
    "sol = [0 for x in range(10000)]\n",
    "\n",
    "def coin_change(n,coins):\n",
    "    # n is 0, basecase. We need no coins\n",
    "    if n == 0:\n",
    "        return 0, change\n",
    "    \n",
    "    # We have already computed the solution, just return it \n",
    "    if sol[n] != 0:\n",
    "        return sol[n], change\n",
    "    \n",
    "    # Try every possible coin and recursively compute the best solution\n",
    "    for c in coins:\n",
    "        if n - c >= 0:\n",
    "            sol_t, _ = coin_change(n - c, coins)\n",
    "            sol_t = sol_t + 1\n",
    "            if sol_t < sol[n] or sol[n] == 0:\n",
    "                sol[n] = sol_t\n",
    "                change[n] = c\n",
    "        \n",
    "    return sol[n], change"
   ]
  },
  {
   "cell_type": "code",
   "execution_count": null,
   "metadata": {
    "collapsed": false,
    "deletable": true,
    "editable": true
   },
   "outputs": [],
   "source": [
    "def print_change(n,coins):\n",
    "    counts, change = coin_change(n,coins)\n",
    "    while n > 0:\n",
    "        print(change[n])\n",
    "        n = n - change[n]\n",
    "\n",
    "UK_coin_set = [1,2,5,10,20,50,100,200,500]\n",
    "print_change(252,UK_coin_set)"
   ]
  },
  {
   "cell_type": "markdown",
   "metadata": {
    "deletable": true,
    "editable": true
   },
   "source": [
    "*Do your experimental analysis here...*"
   ]
  },
  {
   "cell_type": "code",
   "execution_count": null,
   "metadata": {
    "collapsed": false,
    "deletable": true,
    "editable": true
   },
   "outputs": [],
   "source": []
  },
  {
   "cell_type": "markdown",
   "metadata": {
    "deletable": true,
    "editable": true
   },
   "source": [
    "Answer questions (ii)-(iv) here."
   ]
  },
  {
   "cell_type": "code",
   "execution_count": null,
   "metadata": {
    "collapsed": true,
    "deletable": true,
    "editable": true
   },
   "outputs": [],
   "source": [
    "data = range(1,20)\n",
    "#data = range(1,30)\n",
    "#data = range(1,1000,10)\n",
    "#data = range(1,10000,100)\n",
    "#data = range(1,100000,1000)"
   ]
  },
  {
   "cell_type": "code",
   "execution_count": null,
   "metadata": {
    "collapsed": false,
    "deletable": true,
    "editable": true
   },
   "outputs": [],
   "source": [
    "dp_top_down_res = []\n",
    "\n",
    "for i in data:\n",
    "    dp_top_down_res.append(time_f(lambda: coin_change(i)))"
   ]
  },
  {
   "cell_type": "code",
   "execution_count": null,
   "metadata": {
    "collapsed": true,
    "deletable": true,
    "editable": true
   },
   "outputs": [],
   "source": [
    "%matplotlib inline\n",
    "from matplotlib import pyplot as plt\n",
    "\n",
    "plt.scatter(data, dp_top_down_res, c='red')\n",
    "#plt.scatter(data, tdp, c='blue')\n",
    "plt.xlabel('n')\n",
    "plt.ylabel('time (/s)')\n",
    "plt.xlim(0)\n",
    "plt.ylim(0)"
   ]
  }
 ],
 "metadata": {
  "kernelspec": {
   "display_name": "Python 3",
   "language": "python",
   "name": "python3"
  },
  "language_info": {
   "codemirror_mode": {
    "name": "ipython",
    "version": 3
   },
   "file_extension": ".py",
   "mimetype": "text/x-python",
   "name": "python",
   "nbconvert_exporter": "python",
   "pygments_lexer": "ipython3",
   "version": "3.5.2"
  }
 },
 "nbformat": 4,
 "nbformat_minor": 0
}
