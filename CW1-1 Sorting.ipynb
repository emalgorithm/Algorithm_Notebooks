{
 "cells": [
  {
   "cell_type": "markdown",
   "metadata": {
    "deletable": true,
    "editable": true
   },
   "source": [
    "# Algorithms 202: Coursework 1 Task 1: Sorting"
   ]
  },
  {
   "cell_type": "markdown",
   "metadata": {
    "deletable": true,
    "editable": true
   },
   "source": [
    "Group-ID: 15"
   ]
  },
  {
   "cell_type": "markdown",
   "metadata": {
    "deletable": true,
    "editable": true
   },
   "source": [
    "Group members: Tencho Tenev, Emanuele Rossi, Nikolay Yotov"
   ]
  },
  {
   "cell_type": "markdown",
   "metadata": {
    "deletable": true,
    "editable": true
   },
   "source": [
    "# Objectives"
   ]
  },
  {
   "cell_type": "markdown",
   "metadata": {
    "deletable": true,
    "editable": true
   },
   "source": [
    "The aim of this coursework is to enhance your algorithmic skills by mastering the divide and conquer and dynamic programming strategies. You are asked to show that you can:\n",
    "\n",
    "- implement divide and conquer solutions for given problems\n",
    "- compare naive and advanced implementations of algorithms solving the same problem\n",
    "\n",
    "This notebook *is* the coursework. It contains cells with function definitions that you will need to complete. You will submit this notebook as your coursework.\n",
    "\n",
    "The comparisons of different algorithms involve textual descriptions and graphical plots. For graphing you will be using [matplotlib](http://matplotlib.org/index.html) to generate plots. [This tutorial](http://matplotlib.org/index.html) will be useful to go through to get you up to speed. For the textual descriptions you may wish to use [LaTeX](http://en.wikipedia.org/wiki/LaTeX) inline like $\\mathcal{O}(n\\log{}n)$. Double click this cell to reveal the required markup - and [see here](http://texblog.org/2014/06/24/big-o-and-related-notations-in-latex/) for useful guidance on producing common symbols used in asymptotic run time analysis."
   ]
  },
  {
   "cell_type": "markdown",
   "metadata": {
    "deletable": true,
    "editable": true
   },
   "source": [
    "# Preliminaries: helper functions"
   ]
  },
  {
   "cell_type": "markdown",
   "metadata": {
    "deletable": true,
    "editable": true
   },
   "source": [
    "Here we define a collection of functions that will be useful for the rest of the coursework. You'll need to run this cell to get started."
   ]
  },
  {
   "cell_type": "code",
   "execution_count": 1,
   "metadata": {
    "collapsed": false,
    "deletable": true,
    "editable": true
   },
   "outputs": [],
   "source": [
    "# so our plots get drawn in the notebook\n",
    "%matplotlib inline\n",
    "from matplotlib import pyplot as plt\n",
    "from random import randint\n",
    "from time import clock\n",
    "\n",
    "# a timer - runs the provided function and reports the\n",
    "# run time in ms\n",
    "def time_f(f):\n",
    "    before = clock()\n",
    "    f()\n",
    "    after = clock()\n",
    "    return after - before\n",
    "\n",
    "# remember - lambdas are just one line functions\n",
    "\n",
    "# make us a random list length (between 1 - 2000)\n",
    "rand_len = lambda min_len=1, max_len=2e3: randint(min_len, max_len)\n",
    "\n",
    "# choose a random value for a list element (between 0 1e6)\n",
    "rand_int = lambda: randint(0, 1e6)\n",
    "\n",
    "# generate a random list of random length -\n",
    "# here we use a list comprehension, a very tidy\n",
    "# way of transforming lists of data\n",
    "rand_list = lambda min_len=1, max_len=2e3: [rand_int() \n",
    "                                 for i in range(rand_len(min_len=min_len, max_len=max_len))]"
   ]
  },
  {
   "cell_type": "markdown",
   "metadata": {
    "deletable": true,
    "editable": true
   },
   "source": [
    "## Task 1: Sorting"
   ]
  },
  {
   "cell_type": "markdown",
   "metadata": {
    "deletable": true,
    "editable": true
   },
   "source": [
    "In this task you are asked to implement `insertion_sort` and `merge_sort`. You need to perform an experimental analysis of their running time. Based on your analysis, you should implement a third sorting algorithm, `hybrid_sort`, which is similar to `merge_sort` but uses `insertion_sort` for the base case. The problem size for which the base case is invoked has to be inferred from the running time analysis."
   ]
  },
  {
   "cell_type": "markdown",
   "metadata": {
    "deletable": true,
    "editable": true
   },
   "source": [
    "### 1a. Implement `insertion_sort`"
   ]
  },
  {
   "cell_type": "markdown",
   "metadata": {
    "deletable": true,
    "editable": true
   },
   "source": [
    "Complete the below definition for `insertion_sort`. Do not change the name of the function or it's arguments. \n",
    "\n",
    "\n",
    "Hints:\n",
    "\n",
    "- Your sort should be in-place (i.e. it changes the input list for the caller) but you should also return the list so the function can be called as indicated below."
   ]
  },
  {
   "cell_type": "code",
   "execution_count": 2,
   "metadata": {
    "collapsed": false,
    "deletable": true,
    "editable": true
   },
   "outputs": [],
   "source": [
    "def insertion_sort(a):\n",
    "    length = len(a)\n",
    "    \n",
    "    # Assume [0;i) is the sorted part of a and insert a[i]\n",
    "    for i in range(1, len(a)):\n",
    "        # Insert a[i] in the right spot going backwards from a[i-1]\n",
    "        for j in range(i, 0, -1):\n",
    "            if a[j] < a[j-1]:\n",
    "                a[j], a[j-1] = a[j-1], a[j]\n",
    "    return a"
   ]
  },
  {
   "cell_type": "markdown",
   "metadata": {
    "deletable": true,
    "editable": true
   },
   "source": [
    "Use this test to confirm your implementation is correct."
   ]
  },
  {
   "cell_type": "code",
   "execution_count": 3,
   "metadata": {
    "collapsed": false,
    "deletable": true,
    "editable": true
   },
   "outputs": [
    {
     "name": "stdout",
     "output_type": "stream",
     "text": [
      "True\n"
     ]
    }
   ],
   "source": [
    "x = [2, 4, 1, 3]\n",
    "print(insertion_sort(x) == [1, 2, 3, 4])"
   ]
  },
  {
   "cell_type": "markdown",
   "metadata": {
    "deletable": true,
    "editable": true
   },
   "source": [
    "### 1b. Implement `merge_sort`"
   ]
  },
  {
   "cell_type": "markdown",
   "metadata": {
    "deletable": true,
    "editable": true
   },
   "source": [
    "Complete the below definition for `merge_sort`. Do not change the name of the function or it's arguments.\n",
    "\n",
    "Hints:\n",
    "\n",
    "- Your implementation should leave the input list unmodified for the caller\n",
    "- You are free to define other functions in this cell"
   ]
  },
  {
   "cell_type": "code",
   "execution_count": 4,
   "metadata": {
    "collapsed": false,
    "deletable": true,
    "editable": true
   },
   "outputs": [],
   "source": [
    "import math\n",
    "\n",
    "def merge_sort(a):\n",
    "    length = len(a)\n",
    "    \n",
    "    if length == 1:\n",
    "        return a\n",
    "    \n",
    "    mid = math.floor(length / 2)\n",
    "    l = a[:mid]\n",
    "    r = a[mid:]\n",
    "    \n",
    "    l_sorted = merge_sort(l)\n",
    "    r_sorted = merge_sort(r)\n",
    "    \n",
    "    return merge(l_sorted, r_sorted)\n",
    "\n",
    "def merge(l, r):\n",
    "    merged = []\n",
    "    while l and r:\n",
    "        if l[0] <= r[0]:\n",
    "            merged.append(l.pop(0))\n",
    "        else:\n",
    "            merged.append(r.pop(0))\n",
    "\n",
    "    # Append all of l (maybe empty)\n",
    "    merged.extend(l)    \n",
    "    # Append all of r (maybe empty)\n",
    "    merged.extend(r)\n",
    "    \n",
    "    return merged"
   ]
  },
  {
   "cell_type": "markdown",
   "metadata": {
    "deletable": true,
    "editable": true
   },
   "source": [
    "Use this test to confirm your implementation is correct."
   ]
  },
  {
   "cell_type": "code",
   "execution_count": 5,
   "metadata": {
    "collapsed": false,
    "deletable": true,
    "editable": true
   },
   "outputs": [
    {
     "name": "stdout",
     "output_type": "stream",
     "text": [
      "True\n",
      "[1, 2, 3, 4]\n"
     ]
    }
   ],
   "source": [
    "x = [2, 4, 1, 3]\n",
    "print(merge_sort(x) == [1, 2, 3, 4])\n",
    "print(merge_sort(x))"
   ]
  },
  {
   "cell_type": "markdown",
   "metadata": {
    "deletable": true,
    "editable": true
   },
   "source": [
    "### 1c. Analyse the running time performance of `insertion_sort` and `merge_sort`"
   ]
  },
  {
   "cell_type": "markdown",
   "metadata": {
    "deletable": true,
    "editable": true
   },
   "source": [
    "Draw graphs showing the running time performance of your `insertion_sort` and `merge_sort` for different lengths of random integers. Analyse the performance at the large scale ($n \\approx 10^3$) and small scale ($n \\approx 10$)."
   ]
  },
  {
   "cell_type": "code",
   "execution_count": 6,
   "metadata": {
    "collapsed": false,
    "deletable": true,
    "editable": true
   },
   "outputs": [],
   "source": [
    "short_lists = [rand_list(min_len=5, max_len=30) for _ in range(10000)]\n",
    "\n",
    "insertion_sort_times = [time_f(lambda: insertion_sort(x)) for x in short_lists]\n",
    "merge_sort_times = [time_f(lambda: merge_sort(x)) for x in short_lists]\n",
    "list_sizes = [len(x) for x in short_lists]"
   ]
  },
  {
   "cell_type": "code",
   "execution_count": 7,
   "metadata": {
    "collapsed": false,
    "deletable": true,
    "editable": true
   },
   "outputs": [
    {
     "data": {
      "text/plain": [
       "<matplotlib.legend.Legend at 0x10fae8e10>"
      ]
     },
     "execution_count": 7,
     "metadata": {},
     "output_type": "execute_result"
    },
    {
     "data": {
      "image/png": "[encoded data removed]",
      "text/plain": [
       "<matplotlib.figure.Figure at 0x10f3654a8>"
      ]
     },
     "metadata": {},
     "output_type": "display_data"
    }
   ],
   "source": [
    "%matplotlib inline\n",
    "from matplotlib import pyplot as plt\n",
    "\n",
    "insertion_result = plt.scatter(list_sizes, insertion_sort_times, c='red')\n",
    "merge_result = plt.scatter(list_sizes, merge_sort_times, c='blue')\n",
    "plt.xlabel('n')\n",
    "plt.ylabel('time (/s)')\n",
    "plt.xlim(5,30)\n",
    "plt.ylim(0, 0.0002)\n",
    "\n",
    "plt.legend((insertion_result, merge_result),\n",
    "           ('Insertion Sort', 'Merge Sort'))"
   ]
  },
  {
   "cell_type": "markdown",
   "metadata": {},
   "source": [
    "From the above chart we can clearly see how Insertion Sort is faster for input size up to approximately 20."
   ]
  },
  {
   "cell_type": "code",
   "execution_count": 8,
   "metadata": {
    "collapsed": false,
    "deletable": true,
    "editable": true
   },
   "outputs": [],
   "source": [
    "long_lists = [rand_list(max_len=1000) for _ in range(1000)]\n",
    "\n",
    "insertion_sort_times = [time_f(lambda: insertion_sort(x)) for x in long_lists]\n",
    "merge_sort_times = [time_f(lambda: merge_sort(x)) for x in long_lists]\n",
    "list_sizes = [len(x) for x in long_lists]"
   ]
  },
  {
   "cell_type": "code",
   "execution_count": 9,
   "metadata": {
    "collapsed": false,
    "deletable": true,
    "editable": true
   },
   "outputs": [
    {
     "data": {
      "text/plain": [
       "<matplotlib.legend.Legend at 0x10fa66860>"
      ]
     },
     "execution_count": 9,
     "metadata": {},
     "output_type": "execute_result"
    },
    {
     "data": {
      "image/png": "[encoded data removed]",
      "text/plain": [
       "<matplotlib.figure.Figure at 0x10fba37b8>"
      ]
     },
     "metadata": {},
     "output_type": "display_data"
    }
   ],
   "source": [
    "%matplotlib inline\n",
    "from matplotlib import pyplot as plt\n",
    "\n",
    "isort = plt.scatter(list_sizes, insertion_sort_times, c='red')\n",
    "msort = plt.scatter(list_sizes, merge_sort_times, c='blue')\n",
    "plt.xlabel('n')\n",
    "plt.ylabel('time (/s)')\n",
    "plt.xlim(0)\n",
    "plt.ylim(0)\n",
    "\n",
    "plt.legend((isort, msort),\n",
    "           ('Insertion sort', 'Merge sort'))"
   ]
  },
  {
   "cell_type": "code",
   "execution_count": 10,
   "metadata": {
    "collapsed": false,
    "deletable": true,
    "editable": true
   },
   "outputs": [],
   "source": [
    "very_long_lists = [rand_list(max_len=100000) for _ in range(100)]\n",
    "\n",
    "merge_sort_times = [time_f(lambda: merge_sort(x)) for x in very_long_lists]\n",
    "list_sizes = [len(x) for x in very_long_lists]"
   ]
  },
  {
   "cell_type": "code",
   "execution_count": 11,
   "metadata": {
    "collapsed": false,
    "deletable": true,
    "editable": true
   },
   "outputs": [
    {
     "data": {
      "text/plain": [
       "<matplotlib.legend.Legend at 0x10dfccfd0>"
      ]
     },
     "execution_count": 11,
     "metadata": {},
     "output_type": "execute_result"
    },
    {
     "data": {
      "image/png": "[encoded data removed]",
      "text/plain": [
       "<matplotlib.figure.Figure at 0x10fba8390>"
      ]
     },
     "metadata": {},
     "output_type": "display_data"
    }
   ],
   "source": [
    "%matplotlib inline\n",
    "from matplotlib import pyplot as plt\n",
    "\n",
    "merge = plt.scatter(list_sizes, merge_sort_times, c='blue')\n",
    "plt.xlabel('n')\n",
    "plt.ylabel('time (/s)')\n",
    "plt.xlim(0)\n",
    "plt.ylim(0)\n",
    "\n",
    "plt.legend((merge,),\n",
    "           ('merge_sort',))"
   ]
  },
  {
   "cell_type": "markdown",
   "metadata": {
    "deletable": true,
    "editable": true
   },
   "source": [
    "**Now discuss your findings in a few lines in the below cell:**"
   ]
  },
  {
   "cell_type": "markdown",
   "metadata": {
    "deletable": true,
    "editable": true
   },
   "source": [
    "Our implementation of insertion sort performs slightly better than merge sort for input size up to 20. Data from sorting longer lists clearly shows that insertion sort has complexity $\\mathcal{O}(n^2)$ while merge sort complexity is $\\mathcal{O}(n\\log{}n)$."
   ]
  },
  {
   "cell_type": "markdown",
   "metadata": {
    "deletable": true,
    "editable": true
   },
   "source": [
    "### 1d. Implement `hybrid_sort()`"
   ]
  },
  {
   "cell_type": "markdown",
   "metadata": {
    "deletable": true,
    "editable": true
   },
   "source": [
    "Implement `hybrid_sort()`, a `merge_sort()` variant which uses `insertion_sort()` for the base case. The problem size for which the base case is invoked has to be inferred from your above running time analysis."
   ]
  },
  {
   "cell_type": "code",
   "execution_count": 12,
   "metadata": {
    "collapsed": false,
    "deletable": true,
    "editable": true
   },
   "outputs": [],
   "source": [
    "import math\n",
    "\n",
    "ISORT_BASE_SIZE = 20\n",
    "\n",
    "def hybrid_sort(a):\n",
    "    length = len(a)\n",
    "    \n",
    "    if length <= ISORT_BASE_SIZE:\n",
    "        return insertion_sort(a)\n",
    "    \n",
    "    mid = math.floor(length / 2)\n",
    "    l = a[:mid]\n",
    "    r = a[mid:]\n",
    "    \n",
    "    l_sorted = hybrid_sort(l)\n",
    "    r_sorted = hybrid_sort(r)\n",
    "    \n",
    "    return merge(l_sorted, r_sorted)\n",
    "\n",
    "def merge(l, r):\n",
    "    merged = []\n",
    "    while l and r:\n",
    "        if l[0] <= r[0]:\n",
    "            merged.append(l.pop(0))\n",
    "        else:\n",
    "            merged.append(r.pop(0))\n",
    "\n",
    "    # Append all of l (maybe empty)\n",
    "    merged.extend(l)    \n",
    "    # Append all of r (maybe empty)\n",
    "    merged.extend(r)\n",
    "    \n",
    "    return merged"
   ]
  },
  {
   "cell_type": "markdown",
   "metadata": {
    "deletable": true,
    "editable": true
   },
   "source": [
    "Use this test to confirm your implementation is correct."
   ]
  },
  {
   "cell_type": "code",
   "execution_count": 13,
   "metadata": {
    "collapsed": false,
    "deletable": true,
    "editable": true
   },
   "outputs": [
    {
     "name": "stdout",
     "output_type": "stream",
     "text": [
      "True\n"
     ]
    }
   ],
   "source": [
    "x = [2, 4, 1, 3]\n",
    "print(hybrid_sort(x) == [1, 2, 3, 4])"
   ]
  },
  {
   "cell_type": "markdown",
   "metadata": {
    "deletable": true,
    "editable": true
   },
   "source": [
    "### 1e. Analyse all three sorting implementations together"
   ]
  },
  {
   "cell_type": "markdown",
   "metadata": {
    "deletable": true,
    "editable": true
   },
   "source": [
    "Draw graphs showing the running time performance of your `insertion_sort()`, `merge_sort()` and `hybrid_sort()` for different lengths of random integers."
   ]
  },
  {
   "cell_type": "code",
   "execution_count": 16,
   "metadata": {
    "collapsed": false,
    "deletable": true,
    "editable": true
   },
   "outputs": [],
   "source": [
    "lists = [rand_list(max_len=1000) for _ in range(1000)]\n",
    "\n",
    "merge_sort_times = [time_f(lambda: merge_sort(x)) for x in lists]\n",
    "insertion_sort_times = [time_f(lambda: insertion_sort(x)) for x in lists]\n",
    "hybrid_sort_times = [time_f(lambda: hybrid_sort(x)) for x in lists]\n",
    "list_sizes = [len(x) for x in lists]"
   ]
  },
  {
   "cell_type": "code",
   "execution_count": 18,
   "metadata": {
    "collapsed": false,
    "deletable": true,
    "editable": true
   },
   "outputs": [
    {
     "data": {
      "text/plain": [
       "<matplotlib.legend.Legend at 0x11e4e99b0>"
      ]
     },
     "execution_count": 18,
     "metadata": {},
     "output_type": "execute_result"
    },
    {
     "data": {
      "image/png": "[encoded data removed]",
      "text/plain": [
       "<matplotlib.figure.Figure at 0x10ecd70f0>"
      ]
     },
     "metadata": {},
     "output_type": "display_data"
    }
   ],
   "source": [
    "%matplotlib inline\n",
    "from matplotlib import pyplot as plt\n",
    "\n",
    "merge_data = plt.scatter(list_sizes, merge_sort_times, c='blue')\n",
    "insertion_data = plt.scatter(list_sizes, insertion_sort_times, c='red')\n",
    "hybrid_data = plt.scatter(list_sizes, hybrid_sort_times, c='green')\n",
    "plt.xlabel('n')\n",
    "plt.ylabel('time (/s)')\n",
    "plt.xlim(0)\n",
    "plt.ylim(0)\n",
    "\n",
    "plt.legend((merge_data, insertion_data, hybrid_data),\n",
    "           ('Merge Sort', 'Insertion Sort', 'Hybrid Sort'))"
   ]
  },
  {
   "cell_type": "markdown",
   "metadata": {
    "deletable": true,
    "editable": true
   },
   "source": [
    "**Now discuss your findings in a few lines in the below cell:**"
   ]
  },
  {
   "cell_type": "markdown",
   "metadata": {
    "deletable": true,
    "editable": true
   },
   "source": [
    "*Replace with your analysis...*"
   ]
  },
  {
   "cell_type": "markdown",
   "metadata": {
    "deletable": true,
    "editable": true
   },
   "source": [
    "### 1e. Analyse Merge Sort vs Hybrid Sort"
   ]
  },
  {
   "cell_type": "code",
   "execution_count": 19,
   "metadata": {
    "collapsed": false,
    "deletable": true,
    "editable": true
   },
   "outputs": [],
   "source": [
    "lists = [rand_list(max_len=1000) for _ in range(1000)]\n",
    "\n",
    "merge_sort_times = [time_f(lambda: merge_sort(x)) for x in lists]\n",
    "hybrid_sort_times = [time_f(lambda: hybrid_sort(x)) for x in lists]\n",
    "list_sizes = [len(x) for x in lists]"
   ]
  },
  {
   "cell_type": "code",
   "execution_count": 22,
   "metadata": {
    "collapsed": false,
    "deletable": true,
    "editable": true
   },
   "outputs": [
    {
     "data": {
      "text/plain": [
       "<matplotlib.legend.Legend at 0x11e5161d0>"
      ]
     },
     "execution_count": 22,
     "metadata": {},
     "output_type": "execute_result"
    },
    {
     "data": {
      "image/png": "[encoded data removed]",
      "text/plain": [
       "<matplotlib.figure.Figure at 0x1202bf588>"
      ]
     },
     "metadata": {},
     "output_type": "display_data"
    }
   ],
   "source": [
    "%matplotlib inline\n",
    "from matplotlib import pyplot as plt\n",
    "\n",
    "merge_data = plt.scatter(list_sizes, merge_sort_times, c='blue')\n",
    "hybrid_data = plt.scatter(list_sizes, hybrid_sort_times, c='green')\n",
    "plt.xlabel('n')\n",
    "plt.ylabel('time (/s)')\n",
    "plt.xlim(0)\n",
    "plt.ylim(0, 0.008)\n",
    "\n",
    "plt.legend((merge_data, hybrid_data),\n",
    "           ('Merge Sort', 'Hybrid Sort'))"
   ]
  }
 ],
 "metadata": {
  "kernelspec": {
   "display_name": "Python 3",
   "language": "python",
   "name": "python3"
  },
  "language_info": {
   "codemirror_mode": {
    "name": "ipython",
    "version": 3
   },
   "file_extension": ".py",
   "mimetype": "text/x-python",
   "name": "python",
   "nbconvert_exporter": "python",
   "pygments_lexer": "ipython3",
   "version": "3.5.2"
  }
 },
 "nbformat": 4,
 "nbformat_minor": 0
}
